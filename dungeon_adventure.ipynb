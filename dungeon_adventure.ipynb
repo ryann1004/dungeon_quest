{
 "cells": [
  {
   "cell_type": "markdown",
   "id": "54471718",
   "metadata": {},
   "source": [
    "# Dungeon Adventure Game - Instructions\n",
    "\n",
    "In this exercise, you will build a text-based dungeon adventure game in Python.\n",
    "\n",
    "You will apply everything you've learned so far, including:\n",
    "- Variables\n",
    "- Operators\n",
    "- Lists\n",
    "- Dictionaries\n",
    "- Loops\n",
    "- Conditionals\n",
    "- The `random` module\n",
    "\n",
    "Follow the prompts in each section to build your game step by step. By the end, you will have a fully functioning game where the player can explore rooms, search for treasure, avoid traps, and see their final score based on the treasures collected.\n",
    "\n",
    "Complete each section before moving on to the next.\n"
   ]
  },
  {
   "cell_type": "code",
   "execution_count": 15,
   "id": "5d343433",
   "metadata": {},
   "outputs": [],
   "source": [
    "import random\n",
    "\n",
    "\n"
   ]
  },
  {
   "cell_type": "code",
   "execution_count": 16,
   "id": "eee84ad5",
   "metadata": {},
   "outputs": [
    {
     "name": "stdout",
     "output_type": "stream",
     "text": [
      "Welcome to the game, Warrior!\n",
      "Welcome, (player_name) - Good Luck!\n",
      "robert 10 []\n"
     ]
    }
   ],
   "source": [
    "# Step 1: Player Setup\n",
    "# Prompt the player for their name.\n",
    "# Set health to 10.\n",
    "# Create an empty list to store their inventory.\n",
    "print(\"Welcome to the game, Warrior!\")\n",
    "player_name = input(\"What is your name?\")\n",
    "print(f\"Welcome, (player_name) - Good Luck!\")\n",
    "health = 10\n",
    "inventory = []\n",
    "print(player_name, health, inventory)\n",
    "\n",
    "\n",
    "\n"
   ]
  },
  {
   "cell_type": "code",
   "execution_count": 17,
   "id": "3a0aecec",
   "metadata": {},
   "outputs": [],
   "source": [
    "# Step 2: Treasure Dictionary\n",
    "# Create a dictionary of treasures where the keys are treasure names\n",
    "# and the values are the gold value of each treasure.\n",
    "treasures = {\n",
    "    \"gold coin\":500,\n",
    "    \"silver shield\":400,\n",
    "    \"bread\":100,\n",
    "    \"magic carpet\":250\n",
    "}\n",
    "treasure_list = list(treasures.keys())\n",
    "    \n"
   ]
  },
  {
   "cell_type": "code",
   "execution_count": 26,
   "id": "1a24ddaf",
   "metadata": {},
   "outputs": [
    {
     "name": "stdout",
     "output_type": "stream",
     "text": [
      "You are now in 1. What would you like to do?\n",
      "1. Search for treasure\n",
      "2. Move to next room\n",
      "3. Check health and inventory\n",
      "4. Quit the game\n"
     ]
    },
    {
     "ename": "ValueError",
     "evalue": "invalid literal for int() with base 10: ''",
     "output_type": "error",
     "traceback": [
      "\u001b[31m---------------------------------------------------------------------------\u001b[39m",
      "\u001b[31mValueError\u001b[39m                                Traceback (most recent call last)",
      "\u001b[36mCell\u001b[39m\u001b[36m \u001b[39m\u001b[32mIn[26]\u001b[39m\u001b[32m, line 16\u001b[39m\n\u001b[32m     14\u001b[39m \u001b[38;5;28mprint\u001b[39m(\u001b[33mf\u001b[39m\u001b[33m\"\u001b[39m\u001b[33mYou are now in \u001b[39m\u001b[38;5;132;01m{\u001b[39;00mroom\u001b[38;5;132;01m}\u001b[39;00m\u001b[33m. What would you like to do?\u001b[39m\u001b[33m\"\u001b[39m)\n\u001b[32m     15\u001b[39m \u001b[38;5;28mprint\u001b[39m(\u001b[33m\"\u001b[39m\u001b[33m1. Search for treasure\u001b[39m\u001b[38;5;130;01m\\n\u001b[39;00m\u001b[33m2. Move to next room\u001b[39m\u001b[38;5;130;01m\\n\u001b[39;00m\u001b[33m3. Check health and inventory\u001b[39m\u001b[38;5;130;01m\\n\u001b[39;00m\u001b[33m4. Quit the game\u001b[39m\u001b[33m\"\u001b[39m)\n\u001b[32m---> \u001b[39m\u001b[32m16\u001b[39m player_choice = \u001b[38;5;28;43mint\u001b[39;49m\u001b[43m(\u001b[49m\u001b[38;5;28;43minput\u001b[39;49m\u001b[43m(\u001b[49m\u001b[33;43m\"\u001b[39;49m\u001b[33;43mhoose a number 1-5\u001b[39;49m\u001b[33;43m\"\u001b[39;49m\u001b[43m)\u001b[49m\u001b[43m)\u001b[49m\n\u001b[32m     17\u001b[39m \u001b[38;5;28;01mif\u001b[39;00m player_choice == \u001b[32m1\u001b[39m:\n\u001b[32m     18\u001b[39m     \u001b[38;5;66;03m#search for treasure\u001b[39;00m\n\u001b[32m     19\u001b[39m     outcome = random.choice([\u001b[33m\"\u001b[39m\u001b[33mtreasure\u001b[39m\u001b[33m\"\u001b[39m, \u001b[33m\"\u001b[39m\u001b[33mtrap\u001b[39m\u001b[33m\"\u001b[39m])\n",
      "\u001b[31mValueError\u001b[39m: invalid literal for int() with base 10: ''"
     ]
    }
   ],
   "source": [
    "# Step 3: Game Loop - Moving through 5 rooms\n",
    "# Use a for loop to represent rooms 1 to 5.\n",
    "# In each room, display the current room number and the options:\n",
    "# 1. Search for treasure\n",
    "# 2. Move to next room\n",
    "# 3. Check health and inventory\n",
    "# 4. Quit the game\n",
    "# Make sure to handle each option appropriately.\n",
    "for room in range(1,6):\n",
    "    if health <= 0:\n",
    "        print(\"You died! Game Over!!\")\n",
    "        break\n",
    "    while True:\n",
    "        print(f\"You are now in {room}. What would you like to do?\")\n",
    "        print(\"1. Search for treasure\\n2. Move to next room\\n3. Check health and inventory\\n4. Quit the game\")\n",
    "        player_choice = int(input(\"hoose a number 1-5\"))\n",
    "        if player_choice == 1:\n",
    "            #search for treasure\n",
    "            outcome = random.choice([\"treasure\", \"trap\"])\n",
    "            if outcome == \"treasure\":\n",
    "                #add a random treasure to inventory\n",
    "                found_treasure = random.choice(treasure_list)\n",
    "                inventory.append(found_treasure)\n",
    "                print(f\"you found {found_treasure} worth {treasures[found_treasure]}\")\n",
    "            else: \n",
    "                health -= 2\n",
    "                print(f\"You fell into a trap and lost 2 health points! Your health is now {health}!\")\n",
    "                if health <= 0:\n",
    "                    break  \n",
    "        elif player_choice == 2:\n",
    "            #move to the next room\n",
    "            print(f\"You move to the next room...\")\n",
    "            break\n",
    "        elif player_choice == 3:\n",
    "            #display health and inventory\n",
    "            print(f\"Your current health is {health}\\nYour current inventory is: {', '.join(inventory)}\")\n",
    "        elif player_choice == 4:\n",
    "            #quit the game\n",
    "            print(f\"You ran away!\")\n",
    "            break\n",
    "        else:\n",
    "            print(\"Invalid Choice! Choose number 1-5\")\n",
    "    if player_choice == 4:\n",
    "        break\n",
    "            \n",
    "        \n",
    "            \n",
    "        \n",
    "                \n",
    "        \n",
    "    \n",
    "\n",
    "\n",
    "# Step 4: Implement treasure search\n",
    "# If the player chooses to search, randomly decide if they find treasure or a trap.\n",
    "# If treasure, randomly pick from the treasure dictionary and add to inventory.\n",
    "# If trap, deduct 2 health points and print a message.\n",
    "\n",
    "\n",
    "# Step 5: Check health\n",
    "# If health drops to 0 or below, print a Game Over message and break the loop."
   ]
  },
  {
   "cell_type": "code",
   "execution_count": 24,
   "id": "39cc69d2",
   "metadata": {},
   "outputs": [],
   "source": [
    "# Step 6: End of Game Summary\n",
    "# If the player quits or finishes all rooms, calculate the total value of the collected treasures.\n",
    "# Loop through the inventory and sum the gold value using the treasure dictionary.\n",
    "# Print the final health, inventory, and total treasure value.\n",
    "inventory_value = 0\n",
    "for item in inventory:\n",
    "    inventory_level += treasures[item]\n",
    "    inventory_set = set(inventory)\n",
    "    print(f\"game is over, advneturer! You have ended with:\\nHealth of {health}\\nInventory of: {inventory}\\nValuing: {inventory_value} gold!\")"
   ]
  }
 ],
 "metadata": {
  "kernelspec": {
   "display_name": "Python 3",
   "language": "python",
   "name": "python3"
  },
  "language_info": {
   "codemirror_mode": {
    "name": "ipython",
    "version": 3
   },
   "file_extension": ".py",
   "mimetype": "text/x-python",
   "name": "python",
   "nbconvert_exporter": "python",
   "pygments_lexer": "ipython3",
   "version": "3.13.5"
  }
 },
 "nbformat": 4,
 "nbformat_minor": 5
}
